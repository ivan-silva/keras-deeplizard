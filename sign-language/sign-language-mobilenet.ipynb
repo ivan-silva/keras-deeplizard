{
 "cells": [
  {
   "cell_type": "code",
   "execution_count": 6,
   "outputs": [],
   "source": [
    "import os\n",
    "import random\n",
    "import shutil\n",
    "\n",
    "import numpy as np\n",
    "import tensorflow as tf\n",
    "from keras_preprocessing.image import ImageDataGenerator\n",
    "from tensorflow.keras.preprocessing import image\n",
    "%matplotlib inline\n"
   ],
   "metadata": {
    "collapsed": false,
    "pycharm": {
     "name": "#%%\n"
    }
   }
  },
  {
   "cell_type": "markdown",
   "source": [
    "# Cats and dogs with MobileNets\n",
    "\n",
    "## Comparing MobileNets to other models\n",
    "To give a quick comparison in regards to size, the size of the full VGG16 network on disk is about 553 megabytes. The size of one of the currently largest MobileNets is about 17 megabytes, so that is a huge difference, especially when you think about deploying a model to a mobile app or running it in the browser.\n",
    "\n",
    "| Model      | Size     | Parameters    |\n",
    "| ---------- | -------- | ------------- |\n",
    "| VGG16      | `553 MB` | `138,000,000` |\n",
    "| Mobile Net | `17 MB`  | `4,200,000`   |\n",
    "\n",
    "This vast size difference is due to the number of parameters within these networks. For example, VGG16 has 138 million parameters, while the 17 megabyte MobileNet we just mentioned has only 4.2 million.\n",
    "\n",
    "### GPU setup\n"
   ],
   "metadata": {
    "collapsed": false,
    "pycharm": {
     "name": "#%% md\n"
    }
   }
  },
  {
   "cell_type": "code",
   "execution_count": 2,
   "outputs": [
    {
     "name": "stdout",
     "output_type": "stream",
     "text": [
      "Built with CUDA:  True\n",
      "Num GPU available 1\n"
     ]
    }
   ],
   "source": [
    "print(\"Built with CUDA: \", tf.test.is_built_with_cuda())\n",
    "gpus = tf.config.experimental.list_physical_devices('GPU')\n",
    "print(\"Num GPU available\", len(gpus))\n",
    "tf.config.experimental.set_memory_growth(gpus[0], True)"
   ],
   "metadata": {
    "collapsed": false,
    "pycharm": {
     "name": "#%%\n"
    }
   }
  },
  {
   "cell_type": "markdown",
   "source": [
    "## MobileNet model building"
   ],
   "metadata": {
    "collapsed": false
   }
  },
  {
   "cell_type": "code",
   "execution_count": 3,
   "outputs": [],
   "source": [
    "mn_model = tf.keras.applications.mobilenet.MobileNet()"
   ],
   "metadata": {
    "collapsed": false,
    "pycharm": {
     "name": "#%%\n"
    }
   }
  },
  {
   "cell_type": "markdown",
   "source": [
    "## Image preparation\n"
   ],
   "metadata": {
    "collapsed": false,
    "pycharm": {
     "name": "#%% md\n"
    }
   }
  },
  {
   "cell_type": "code",
   "execution_count": 3,
   "outputs": [],
   "source": [
    "\n",
    "def prepare_image(file_path):\n",
    "    img = image.load_img(file_path, target_size=(224, 224))\n",
    "    img_array = image.img_to_array(img)\n",
    "    img_array_expanded_dims = np.expand_dims(img_array, axis=0)\n",
    "    return tf.keras.applications.mobilenet.preprocess_input(img_array_expanded_dims)\n"
   ],
   "metadata": {
    "collapsed": false,
    "pycharm": {
     "name": "#%%\n"
    }
   }
  },
  {
   "cell_type": "code",
   "execution_count": 31,
   "outputs": [
    {
     "name": "stdout",
     "output_type": "stream",
     "text": [
      "Siamo nella cartella: C:\\Workspace\\keras-deeplizard\\sign-language\n",
      "Cartella con immagini suddivise non trovata, vengono create le immagini.\n"
     ]
    }
   ],
   "source": [
    "full_dir = 'data/full'\n",
    "split_dir = 'data/split'\n",
    "train_dir = f'{split_dir}/train'\n",
    "valid_dir = f'{split_dir}/valid'\n",
    "test_dir = f'{split_dir}/test'\n",
    "\n",
    "def split_images():\n",
    "\n",
    "    script_folder = globals()['_dh'][0]\n",
    "    print('Siamo nella cartella:', script_folder)\n",
    "\n",
    "    if os.path.isdir('train/0') is False:\n",
    "        print('Cartella con immagini suddivise non trovata, vengono create le immagini.')\n",
    "\n",
    "        # Da 'data' faro' tutte le operazioni senza spostarmi\n",
    "        # os.chdir(script_folder)\n",
    "        # os.chdir('data')\n",
    "\n",
    "        # Copio tutte le immagini originali per evitare di rovinare il dataset\n",
    "        shutil.copytree(full_dir, train_dir)\n",
    "        os.makedirs(valid_dir)\n",
    "        os.makedirs(test_dir)\n",
    "\n",
    "        # for current_dir in os.listdir(train_dir):\n",
    "        #     print('Directory: ', current_dir)\n",
    "        for directory in os.listdir(train_dir):\n",
    "            cur_dir = f'{train_dir}/{directory}'\n",
    "            os.makedirs(f'{valid_dir}/{directory}')\n",
    "            os.makedirs(f'{test_dir}/{directory}')\n",
    "            valid_samples = random.sample(os.listdir(cur_dir), 30)\n",
    "            for sample in valid_samples:\n",
    "                shutil.move(f'{cur_dir}/{sample}', f'{valid_dir}/{directory}/{sample}')\n",
    "\n",
    "            test_samples = random.sample(os.listdir(cur_dir), 5)\n",
    "            for sample in test_samples:\n",
    "                shutil.move(f'{train_dir}/{directory}/{sample}', f'{test_dir}/{directory}/{sample}')\n",
    "\n",
    "        # Ritorno nella cartella iniziale\n",
    "        # os.chdir(script_folder)\n",
    "    else:\n",
    "        print('Cartella con immagini suddivise trovata, salto la creazione')\n",
    "\n",
    "split_images()"
   ],
   "metadata": {
    "collapsed": false,
    "pycharm": {
     "name": "#%%\n"
    }
   }
  },
  {
   "cell_type": "code",
   "execution_count": 37,
   "outputs": [
    {
     "name": "stdout",
     "output_type": "stream",
     "text": [
      "Found 1712 images belonging to 10 classes.\n",
      "Found 300 images belonging to 10 classes.\n",
      "Found 50 images belonging to 10 classes.\n"
     ]
    }
   ],
   "source": [
    "preprocessing_function = tf.keras.applications.mobilenet.preprocess_input\n",
    "target_size = (224,224)\n",
    "batch_size = 10\n",
    "\n",
    "train_batches = ImageDataGenerator(preprocessing_function=preprocessing_function).flow_from_directory(\n",
    "    directory=train_dir,\n",
    "    target_size=target_size,\n",
    "    batch_size=batch_size\n",
    ")\n",
    "valid_batches = ImageDataGenerator(preprocessing_function=preprocessing_function).flow_from_directory(\n",
    "    directory=valid_dir,\n",
    "    target_size=target_size,\n",
    "    batch_size=batch_size\n",
    ")\n",
    "# Non vogliamo che il test_batch sia mescolato perchè vogliamo potervi accedere quando facciamo la\n",
    "# rappresentazione grafica tramite confusion matrix\n",
    "test_batches = ImageDataGenerator(preprocessing_function=preprocessing_function).flow_from_directory(\n",
    "    directory=test_dir,\n",
    "    target_size=target_size,\n",
    "    batch_size=batch_size,\n",
    "    shuffle=False\n",
    ")\n",
    "\n",
    "assert train_batches.n == 1712\n",
    "assert valid_batches.n == 300\n",
    "assert test_batches.n == 50\n",
    "assert train_batches.num_classes == valid_batches.num_classes == test_batches.num_classes == 10"
   ],
   "metadata": {
    "collapsed": false,
    "pycharm": {
     "name": "#%%\n"
    }
   }
  },
  {
   "cell_type": "code",
   "execution_count": null,
   "outputs": [],
   "source": [],
   "metadata": {
    "collapsed": false,
    "pycharm": {
     "name": "#%%\n"
    }
   }
  }
 ],
 "metadata": {
  "kernelspec": {
   "name": "cuda-11",
   "language": "python",
   "display_name": "cuda-11"
  },
  "language_info": {
   "codemirror_mode": {
    "name": "ipython",
    "version": 2
   },
   "file_extension": ".py",
   "mimetype": "text/x-python",
   "name": "python",
   "nbconvert_exporter": "python",
   "pygments_lexer": "ipython2",
   "version": "2.7.6"
  }
 },
 "nbformat": 4,
 "nbformat_minor": 0
}